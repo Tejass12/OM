{
 "cells": [
  {
   "cell_type": "code",
   "execution_count": 66,
   "id": "96006154",
   "metadata": {},
   "outputs": [],
   "source": [
    "import pandas as pd\n",
    "import numpy as np\n",
    "import seaborn as sns\n",
    "import matplotlib as plt\n",
    "from sklearn.preprocessing import StandardScaler\n",
    "from sklearn.linear_model import LogisticRegression\n",
    "from sklearn.model_selection import train_test_split\n",
    "from sklearn.metrics import confusion_matrix\n",
    "from sklearn.metrics import classification_report\n",
    "from sklearn.metrics import accuracy_score"
   ]
  },
  {
   "cell_type": "code",
   "execution_count": 67,
   "id": "4eb32471",
   "metadata": {},
   "outputs": [],
   "source": [
    "df=pd.read_csv(\"Social_Network_Ads.csv\")"
   ]
  },
  {
   "cell_type": "code",
   "execution_count": 68,
   "id": "b2ec6da4",
   "metadata": {},
   "outputs": [
    {
     "data": {
      "text/html": [
       "<div>\n",
       "<style scoped>\n",
       "    .dataframe tbody tr th:only-of-type {\n",
       "        vertical-align: middle;\n",
       "    }\n",
       "\n",
       "    .dataframe tbody tr th {\n",
       "        vertical-align: top;\n",
       "    }\n",
       "\n",
       "    .dataframe thead th {\n",
       "        text-align: right;\n",
       "    }\n",
       "</style>\n",
       "<table border=\"1\" class=\"dataframe\">\n",
       "  <thead>\n",
       "    <tr style=\"text-align: right;\">\n",
       "      <th></th>\n",
       "      <th>Age</th>\n",
       "      <th>EstimatedSalary</th>\n",
       "      <th>Purchased</th>\n",
       "    </tr>\n",
       "  </thead>\n",
       "  <tbody>\n",
       "    <tr>\n",
       "      <th>0</th>\n",
       "      <td>19</td>\n",
       "      <td>19000</td>\n",
       "      <td>0</td>\n",
       "    </tr>\n",
       "    <tr>\n",
       "      <th>1</th>\n",
       "      <td>35</td>\n",
       "      <td>20000</td>\n",
       "      <td>0</td>\n",
       "    </tr>\n",
       "    <tr>\n",
       "      <th>2</th>\n",
       "      <td>26</td>\n",
       "      <td>43000</td>\n",
       "      <td>0</td>\n",
       "    </tr>\n",
       "    <tr>\n",
       "      <th>3</th>\n",
       "      <td>27</td>\n",
       "      <td>57000</td>\n",
       "      <td>0</td>\n",
       "    </tr>\n",
       "    <tr>\n",
       "      <th>4</th>\n",
       "      <td>19</td>\n",
       "      <td>76000</td>\n",
       "      <td>0</td>\n",
       "    </tr>\n",
       "    <tr>\n",
       "      <th>...</th>\n",
       "      <td>...</td>\n",
       "      <td>...</td>\n",
       "      <td>...</td>\n",
       "    </tr>\n",
       "    <tr>\n",
       "      <th>395</th>\n",
       "      <td>46</td>\n",
       "      <td>41000</td>\n",
       "      <td>1</td>\n",
       "    </tr>\n",
       "    <tr>\n",
       "      <th>396</th>\n",
       "      <td>51</td>\n",
       "      <td>23000</td>\n",
       "      <td>1</td>\n",
       "    </tr>\n",
       "    <tr>\n",
       "      <th>397</th>\n",
       "      <td>50</td>\n",
       "      <td>20000</td>\n",
       "      <td>1</td>\n",
       "    </tr>\n",
       "    <tr>\n",
       "      <th>398</th>\n",
       "      <td>36</td>\n",
       "      <td>33000</td>\n",
       "      <td>0</td>\n",
       "    </tr>\n",
       "    <tr>\n",
       "      <th>399</th>\n",
       "      <td>49</td>\n",
       "      <td>36000</td>\n",
       "      <td>1</td>\n",
       "    </tr>\n",
       "  </tbody>\n",
       "</table>\n",
       "<p>400 rows × 3 columns</p>\n",
       "</div>"
      ],
      "text/plain": [
       "     Age  EstimatedSalary  Purchased\n",
       "0     19            19000          0\n",
       "1     35            20000          0\n",
       "2     26            43000          0\n",
       "3     27            57000          0\n",
       "4     19            76000          0\n",
       "..   ...              ...        ...\n",
       "395   46            41000          1\n",
       "396   51            23000          1\n",
       "397   50            20000          1\n",
       "398   36            33000          0\n",
       "399   49            36000          1\n",
       "\n",
       "[400 rows x 3 columns]"
      ]
     },
     "execution_count": 68,
     "metadata": {},
     "output_type": "execute_result"
    }
   ],
   "source": [
    "df"
   ]
  },
  {
   "cell_type": "code",
   "execution_count": 69,
   "id": "fe2c480c",
   "metadata": {},
   "outputs": [
    {
     "data": {
      "text/plain": [
       "Age                0\n",
       "EstimatedSalary    0\n",
       "Purchased          0\n",
       "dtype: int64"
      ]
     },
     "execution_count": 69,
     "metadata": {},
     "output_type": "execute_result"
    }
   ],
   "source": [
    "df.isnull().sum()"
   ]
  },
  {
   "cell_type": "code",
   "execution_count": 70,
   "id": "c8236dc7",
   "metadata": {},
   "outputs": [
    {
     "data": {
      "text/plain": [
       "<AxesSubplot:>"
      ]
     },
     "execution_count": 70,
     "metadata": {},
     "output_type": "execute_result"
    },
    {
     "data": {
      "image/png": "[encoded data removed]",
      "text/plain": [
       "<Figure size 432x288 with 1 Axes>"
      ]
     },
     "metadata": {
      "needs_background": "light"
     },
     "output_type": "display_data"
    }
   ],
   "source": [
    "col=['Age','EstimatedSalary']\n",
    "df.boxplot(col)"
   ]
  },
  {
   "cell_type": "code",
   "execution_count": 202,
   "id": "7287b625",
   "metadata": {},
   "outputs": [
    {
     "name": "stderr",
     "output_type": "stream",
     "text": [
      "C:\\Users\\AIDS\\anaconda3\\lib\\site-packages\\seaborn\\distributions.py:2619: FutureWarning: `distplot` is a deprecated function and will be removed in a future version. Please adapt your code to use either `displot` (a figure-level function with similar flexibility) or `histplot` (an axes-level function for histograms).\n",
      "  warnings.warn(msg, FutureWarning)\n"
     ]
    },
    {
     "data": {
      "text/plain": [
       "<AxesSubplot:xlabel='Age', ylabel='Density'>"
      ]
     },
     "execution_count": 202,
     "metadata": {},
     "output_type": "execute_result"
    },
    {
     "data": {
      "image/png": "[encoded data removed]",
      "text/plain": [
       "<Figure size 432x288 with 1 Axes>"
      ]
     },
     "metadata": {
      "needs_background": "light"
     },
     "output_type": "display_data"
    }
   ],
   "source": [
    "\n",
    "sns.distplot(df['Age'])\n"
   ]
  },
  {
   "cell_type": "code",
   "execution_count": 203,
   "id": "426d9d6e",
   "metadata": {},
   "outputs": [
    {
     "name": "stderr",
     "output_type": "stream",
     "text": [
      "C:\\Users\\AIDS\\anaconda3\\lib\\site-packages\\seaborn\\distributions.py:2619: FutureWarning: `distplot` is a deprecated function and will be removed in a future version. Please adapt your code to use either `displot` (a figure-level function with similar flexibility) or `histplot` (an axes-level function for histograms).\n",
      "  warnings.warn(msg, FutureWarning)\n"
     ]
    },
    {
     "data": {
      "text/plain": [
       "<AxesSubplot:xlabel='EstimatedSalary', ylabel='Density'>"
      ]
     },
     "execution_count": 203,
     "metadata": {},
     "output_type": "execute_result"
    },
    {
     "data": {
      "image/png": "[encoded data removed]",
      "text/plain": [
       "<Figure size 432x288 with 1 Axes>"
      ]
     },
     "metadata": {
      "needs_background": "light"
     },
     "output_type": "display_data"
    }
   ],
   "source": [
    "sns.distplot(df['EstimatedSalary'])"
   ]
  },
  {
   "cell_type": "code",
   "execution_count": 73,
   "id": "5ee73864",
   "metadata": {},
   "outputs": [],
   "source": [
    "X=df.drop(['Purchased'],axis=1)\n",
    "Y=df['Purchased']\n"
   ]
  },
  {
   "cell_type": "code",
   "execution_count": 204,
   "id": "e8117f7e",
   "metadata": {},
   "outputs": [],
   "source": [
    "X_train,X_test,Y_train,Y_test=train_test_split(X,Y,test_size=0.2,random_state=10)"
   ]
  },
  {
   "cell_type": "code",
   "execution_count": 205,
   "id": "129ef6a4",
   "metadata": {},
   "outputs": [
    {
     "name": "stdout",
     "output_type": "stream",
     "text": [
      "(320, 2)\n",
      "(80, 2)\n",
      "(320,)\n",
      "(80,)\n"
     ]
    }
   ],
   "source": [
    "print(X_train.shape)\n",
    "print(X_test.shape)\n",
    "print(Y_train.shape)\n",
    "print(Y_test.shape)"
   ]
  },
  {
   "cell_type": "code",
   "execution_count": 206,
   "id": "1e5b5f7a",
   "metadata": {},
   "outputs": [],
   "source": [
    "scaler=StandardScaler()\n",
    "X_train=scaler.fit_transform(X_train)\n",
    "X_test=scaler.fit_transform(X_test)"
   ]
  },
  {
   "cell_type": "code",
   "execution_count": 207,
   "id": "da4df945",
   "metadata": {},
   "outputs": [
    {
     "data": {
      "text/plain": [
       "array([[-0.03449842,  0.26845438],\n",
       "       [ 0.06066963, -0.25929212],\n",
       "       [-1.65235532,  0.12185813],\n",
       "       [-0.98617895,  0.53232764],\n",
       "       [-1.36685117, -1.22682738],\n",
       "       [-0.51033869,  0.47368914],\n",
       "       [-1.55718727,  0.53232764],\n",
       "       [-0.8910109 ,  0.56164689],\n",
       "       [-1.74752338, -1.28546588],\n",
       "       [-0.60550674,  0.18049663],\n",
       "       [ 1.77369459, -0.28861137],\n",
       "       [-0.60550674, -0.05405737],\n",
       "       [-0.22483453, -1.40274288],\n",
       "       [ 2.05919875, -0.81635787],\n",
       "       [-1.08134701,  0.29777364],\n",
       "       [-1.84269143, -0.52316537],\n",
       "       [ 1.48819043,  1.00143564],\n",
       "       [-0.98617895,  0.59096614],\n",
       "       [-0.60550674,  0.03390038],\n",
       "       [-0.70067479,  0.29777364],\n",
       "       [-0.8910109 ,  0.26845438],\n",
       "       [-0.8910109 ,  0.44436989],\n",
       "       [ 0.34617379,  0.06321963],\n",
       "       [ 2.15436681, -1.05091188],\n",
       "       [ 0.82201406,  0.35641214],\n",
       "       [ 0.91718211, -1.05091188],\n",
       "       [-0.41517063, -0.02473812],\n",
       "       [-1.08134701, -1.60797763],\n",
       "       [-0.12966647,  2.17420565],\n",
       "       [-0.22483453, -0.93363487],\n",
       "       [-0.60550674, -1.52001988],\n",
       "       [ 1.39302238,  1.29462814],\n",
       "       [-0.32000258, -0.78703862],\n",
       "       [-1.17651506,  0.29777364],\n",
       "       [ 1.48819043,  0.06321963],\n",
       "       [ 0.72684601, -1.28546588],\n",
       "       [-0.03449842, -0.49384612],\n",
       "       [ 2.15436681,  0.94279714],\n",
       "       [-0.51033869,  1.38258589],\n",
       "       [ 0.44134185,  0.29777364],\n",
       "       [ 1.10751822, -0.99227337],\n",
       "       [ 0.91718211, -1.46138138],\n",
       "       [ 1.20268627, -0.99227337],\n",
       "       [-0.22483453,  0.20981588],\n",
       "       [-0.60550674, -0.34724987],\n",
       "       [ 0.44134185, -0.17133437],\n",
       "       [ 0.5365099 ,  1.7344169 ],\n",
       "       [ 0.72684601, -1.40274288],\n",
       "       [-0.79584285, -0.78703862],\n",
       "       [ 1.9640307 ,  0.73756239],\n",
       "       [ 0.34617379, -0.55248462],\n",
       "       [-0.22483453,  0.79620089],\n",
       "       [-0.79584285,  0.15117738],\n",
       "       [ 0.25100574, -0.37656912],\n",
       "       [ 0.34617379, -1.16818888],\n",
       "       [ 1.86886265,  0.12185813],\n",
       "       [ 0.72684601, -1.10955038],\n",
       "       [-0.41517063, -1.22682738],\n",
       "       [-0.22483453,  2.2621634 ],\n",
       "       [-0.22483453, -0.25929212],\n",
       "       [ 0.15583769,  0.09253888],\n",
       "       [ 1.10751822,  0.56164689],\n",
       "       [ 1.01235017, -1.16818888],\n",
       "       [ 1.29785433,  2.23284415],\n",
       "       [-0.98617895,  0.76688164],\n",
       "       [ 1.58335849,  1.00143564],\n",
       "       [-0.22483453, -1.25614663],\n",
       "       [ 0.34617379,  0.06321963],\n",
       "       [ 1.01235017, -1.19750813],\n",
       "       [ 0.82201406,  0.76688164],\n",
       "       [ 0.25100574, -0.25929212],\n",
       "       [-1.08134701,  0.47368914],\n",
       "       [-0.98617895, -0.34724987],\n",
       "       [-0.32000258,  0.06321963],\n",
       "       [ 1.9640307 , -0.93363487],\n",
       "       [ 0.91718211, -0.55248462],\n",
       "       [ 1.67852654,  1.61713989],\n",
       "       [-1.74752338, -1.43206213],\n",
       "       [ 1.29785433, -1.37342363],\n",
       "       [ 1.39302238,  2.35012115],\n",
       "       [-0.98617895, -1.46138138],\n",
       "       [ 0.91718211, -0.61112312],\n",
       "       [ 0.82201406,  1.38258589],\n",
       "       [-1.08134701, -1.02159262],\n",
       "       [-1.74752338, -1.31478513],\n",
       "       [-1.08134701, -1.10955038],\n",
       "       [-0.60550674,  0.56164689],\n",
       "       [ 1.20268627,  0.53232764],\n",
       "       [-1.46201922, -1.52001988],\n",
       "       [-0.22483453,  0.03390038],\n",
       "       [-0.32000258,  1.23598964],\n",
       "       [ 0.34617379,  0.26845438],\n",
       "       [ 0.15583769,  0.03390038],\n",
       "       [ 0.25100574,  0.15117738],\n",
       "       [-0.79584285, -0.25929212],\n",
       "       [-1.08134701,  0.06321963],\n",
       "       [-0.03449842,  1.9689709 ],\n",
       "       [-0.41517063, -0.28861137],\n",
       "       [-0.03449842, -0.52316537],\n",
       "       [-0.8910109 , -1.10955038],\n",
       "       [-0.70067479,  0.50300839],\n",
       "       [-0.12966647, -0.52316537],\n",
       "       [ 1.01235017,  0.12185813],\n",
       "       [-1.46201922, -0.20065362],\n",
       "       [-0.22483453,  0.06321963],\n",
       "       [-1.74752338, -1.49070063],\n",
       "       [-1.27168311, -1.10955038],\n",
       "       [-0.22483453, -0.37656912],\n",
       "       [ 0.82201406,  0.12185813],\n",
       "       [-0.12966647,  1.41190514],\n",
       "       [-1.27168311, -0.43520762],\n",
       "       [ 0.91718211,  1.08939339],\n",
       "       [ 0.44134185,  2.3208019 ],\n",
       "       [-0.12966647,  1.61713989],\n",
       "       [-0.22483453,  0.53232764],\n",
       "       [-0.60550674, -1.60797763],\n",
       "       [ 0.15583769,  1.88101315],\n",
       "       [-0.98617895,  0.56164689],\n",
       "       [-0.51033869,  1.47054364],\n",
       "       [-1.08134701,  0.41505064],\n",
       "       [-0.22483453,  0.26845438],\n",
       "       [ 0.44134185,  0.09253888],\n",
       "       [ 1.58335849,  1.11871264],\n",
       "       [ 0.44134185,  0.00458113],\n",
       "       [ 0.25100574,  0.06321963],\n",
       "       [-1.65235532, -0.99227337],\n",
       "       [-1.65235532,  0.35641214],\n",
       "       [-1.27168311, -0.43520762],\n",
       "       [-0.03449842,  0.00458113],\n",
       "       [-0.51033869,  0.88415864],\n",
       "       [-1.17651506,  0.26845438],\n",
       "       [-0.22483453,  0.06321963],\n",
       "       [-0.03449842, -1.08023113],\n",
       "       [ 0.15583769,  0.15117738],\n",
       "       [ 0.06066963, -0.43520762],\n",
       "       [-0.22483453, -0.66976162],\n",
       "       [-0.70067479, -0.22997287],\n",
       "       [ 1.9640307 ,  2.17420565],\n",
       "       [ 0.25100574,  0.03390038],\n",
       "       [-0.22483453,  0.15117738],\n",
       "       [ 0.06066963,  0.03390038],\n",
       "       [ 0.5365099 ,  1.8516939 ],\n",
       "       [-1.74752338,  0.00458113],\n",
       "       [-1.08134701, -0.78703862],\n",
       "       [-0.70067479,  1.08939339],\n",
       "       [ 0.25100574, -0.37656912],\n",
       "       [ 0.06066963,  1.26530889],\n",
       "       [-0.22483453,  0.15117738],\n",
       "       [-0.12966647,  0.15117738],\n",
       "       [-1.08134701,  0.29777364],\n",
       "       [ 0.44134185,  1.00143564],\n",
       "       [-0.70067479,  0.26845438],\n",
       "       [ 1.9640307 ,  0.91347789],\n",
       "       [-1.08134701, -1.57865838],\n",
       "       [ 1.10751822, -1.22682738],\n",
       "       [ 0.44134185, -0.46452687],\n",
       "       [-1.55718727, -1.57865838],\n",
       "       [ 1.01235017,  1.7930554 ],\n",
       "       [-0.51033869,  2.35012115],\n",
       "       [-0.22483453, -0.14201512],\n",
       "       [-0.41517063,  2.3208019 ],\n",
       "       [-0.70067479,  1.35326664],\n",
       "       [-0.98617895, -1.13886963],\n",
       "       [-0.79584285, -0.78703862],\n",
       "       [-0.03449842, -0.37656912],\n",
       "       [ 2.15436681,  1.11871264],\n",
       "       [-0.12966647, -0.46452687],\n",
       "       [-1.17651506,  0.59096614],\n",
       "       [-0.79584285, -0.66976162],\n",
       "       [ 2.15436681, -0.69908087],\n",
       "       [-1.27168311,  0.41505064],\n",
       "       [ 0.72684601,  1.7930554 ],\n",
       "       [ 1.01235017,  1.99829015],\n",
       "       [ 1.67852654,  1.76373615],\n",
       "       [-0.12966647, -0.58180387],\n",
       "       [ 0.25100574,  0.23913513],\n",
       "       [ 0.15583769, -0.31793062],\n",
       "       [-0.60550674,  0.12185813],\n",
       "       [ 1.39302238,  0.59096614],\n",
       "       [-0.22483453, -0.34724987],\n",
       "       [-1.65235532,  0.35641214],\n",
       "       [ 1.86886265, -0.28861137],\n",
       "       [ 0.06066963, -0.58180387],\n",
       "       [-0.79584285,  2.29148265],\n",
       "       [ 1.01235017, -1.02159262],\n",
       "       [ 0.44134185,  0.29777364],\n",
       "       [-0.22483453, -0.28861137],\n",
       "       [-0.32000258,  1.32394739],\n",
       "       [ 1.10751822,  0.53232764],\n",
       "       [-0.03449842,  0.12185813],\n",
       "       [ 0.25100574, -0.37656912],\n",
       "       [ 0.15583769,  0.26845438],\n",
       "       [-0.70067479,  1.9103324 ],\n",
       "       [-0.12966647,  0.85483939],\n",
       "       [ 0.44134185,  0.15117738],\n",
       "       [-0.12966647, -0.28861137],\n",
       "       [-1.65235532, -0.61112312],\n",
       "       [-0.22483453, -0.75771937],\n",
       "       [-1.36685117,  0.35641214],\n",
       "       [-0.22483453, -1.31478513],\n",
       "       [ 1.01235017, -0.84567712],\n",
       "       [ 1.20268627, -0.75771937],\n",
       "       [ 0.34617379,  0.06321963],\n",
       "       [ 0.06066963, -0.58180387],\n",
       "       [-0.51033869,  1.9103324 ],\n",
       "       [ 0.91718211,  1.26530889],\n",
       "       [-0.32000258, -1.31478513],\n",
       "       [ 0.82201406, -1.40274288],\n",
       "       [ 2.05919875, -1.19750813],\n",
       "       [ 1.48819043, -1.05091188],\n",
       "       [-1.46201922,  0.32709289],\n",
       "       [-0.41517063, -0.55248462],\n",
       "       [ 1.10751822,  0.47368914],\n",
       "       [ 0.5365099 ,  1.23598964],\n",
       "       [ 0.34617379, -0.28861137],\n",
       "       [-0.22483453, -1.37342363],\n",
       "       [-1.27168311, -1.37342363],\n",
       "       [ 0.15583769,  1.06007414],\n",
       "       [ 0.91718211, -1.37342363],\n",
       "       [-0.22483453, -0.43520762],\n",
       "       [-1.84269143, -0.75771937],\n",
       "       [-1.84269143,  0.35641214],\n",
       "       [ 0.34617379, -0.52316537],\n",
       "       [ 2.15436681, -0.81635787],\n",
       "       [-0.03449842,  0.67892389],\n",
       "       [-0.98617895, -0.37656912],\n",
       "       [ 0.72684601, -1.40274288],\n",
       "       [-0.70067479, -1.54933913],\n",
       "       [-1.84269143,  0.47368914],\n",
       "       [ 1.10751822,  0.12185813],\n",
       "       [-1.36685117, -1.46138138],\n",
       "       [ 0.25100574, -0.14201512],\n",
       "       [ 0.82201406,  0.26845438],\n",
       "       [ 0.44134185, -0.46452687],\n",
       "       [-0.03449842,  0.29777364],\n",
       "       [-0.22483453,  1.11871264],\n",
       "       [ 0.25100574,  1.08939339],\n",
       "       [-1.08134701, -1.54933913],\n",
       "       [-0.60550674, -0.11269587],\n",
       "       [ 0.34617379,  0.50300839],\n",
       "       [ 0.34617379,  0.29777364],\n",
       "       [ 0.91718211,  2.17420565],\n",
       "       [ 0.06066963, -0.25929212],\n",
       "       [-1.08134701, -0.52316537],\n",
       "       [-1.08134701, -1.60797763],\n",
       "       [ 0.06066963,  1.23598964],\n",
       "       [-0.60550674,  1.41190514],\n",
       "       [-0.22483453, -0.58180387],\n",
       "       [-0.8910109 , -0.43520762],\n",
       "       [-0.70067479,  0.56164689],\n",
       "       [ 2.05919875,  0.18049663],\n",
       "       [ 0.15583769,  1.88101315],\n",
       "       [-0.51033869,  1.38258589],\n",
       "       [ 1.29785433,  1.88101315],\n",
       "       [ 0.34617379, -0.20065362],\n",
       "       [-1.74752338,  0.18049663],\n",
       "       [-1.55718727, -0.05405737],\n",
       "       [-0.8910109 ,  0.41505064],\n",
       "       [ 0.63167795, -0.90431562],\n",
       "       [-0.03449842,  0.23913513],\n",
       "       [ 1.01235017,  2.0862479 ],\n",
       "       [ 0.34617379,  0.03390038],\n",
       "       [-1.36685117, -0.20065362],\n",
       "       [-1.27168311,  0.56164689],\n",
       "       [ 1.01235017, -1.08023113],\n",
       "       [-1.27168311, -1.25614663],\n",
       "       [ 0.25100574, -0.31793062],\n",
       "       [ 0.82201406, -1.10955038],\n",
       "       [ 1.20268627, -1.46138138],\n",
       "       [ 1.10751822, -0.14201512],\n",
       "       [-0.51033869, -1.52001988],\n",
       "       [ 2.15436681, -0.81635787],\n",
       "       [ 0.34617379, -0.52316537],\n",
       "       [-0.79584285,  0.38573139],\n",
       "       [ 1.10751822, -0.90431562],\n",
       "       [-0.79584285, -1.22682738],\n",
       "       [ 0.82201406, -1.22682738],\n",
       "       [ 1.39302238, -1.43206213],\n",
       "       [ 1.67852654, -0.90431562],\n",
       "       [ 1.10751822,  2.0862479 ],\n",
       "       [-0.98617895,  1.9689709 ],\n",
       "       [ 1.48819043,  0.35641214],\n",
       "       [-1.74752338,  0.44436989],\n",
       "       [-0.22483453, -0.58180387],\n",
       "       [-1.08134701, -1.16818888],\n",
       "       [-0.03449842, -0.22997287],\n",
       "       [ 0.06066963, -0.14201512],\n",
       "       [ 0.15583769,  0.20981588],\n",
       "       [-1.84269143, -0.05405737],\n",
       "       [ 1.77369459,  1.00143564],\n",
       "       [-0.51033869, -1.52001988],\n",
       "       [-1.46201922, -1.25614663],\n",
       "       [ 0.63167795,  2.0276094 ],\n",
       "       [-0.60550674, -1.05091188],\n",
       "       [-1.17651506, -1.40274288],\n",
       "       [ 1.86886265, -1.08023113],\n",
       "       [-0.22483453, -0.90431562],\n",
       "       [-0.8910109 , -0.75771937],\n",
       "       [-1.36685117, -0.11269587],\n",
       "       [ 0.25100574,  0.15117738],\n",
       "       [ 0.44134185,  0.26845438],\n",
       "       [ 0.91718211,  1.03075489],\n",
       "       [-0.98617895, -0.34724987],\n",
       "       [ 1.48819043,  2.1448864 ],\n",
       "       [ 1.58335849,  0.00458113],\n",
       "       [ 0.91718211, -1.31478513],\n",
       "       [ 2.15436681,  0.38573139],\n",
       "       [-0.98617895, -1.54933913],\n",
       "       [ 0.34617379,  0.06321963],\n",
       "       [-0.41517063,  1.26530889],\n",
       "       [-1.17651506, -1.08023113],\n",
       "       [ 0.82201406, -0.84567712],\n",
       "       [-0.22483453,  0.62028539],\n",
       "       [ 0.82201406, -0.31793062],\n",
       "       [-0.22483453, -0.49384612],\n",
       "       [ 1.58335849, -1.28546588],\n",
       "       [ 1.39302238,  1.99829015],\n",
       "       [-0.79584285,  0.29777364],\n",
       "       [ 0.15583769, -0.25929212],\n",
       "       [ 0.44134185,  1.11871264]])"
      ]
     },
     "execution_count": 207,
     "metadata": {},
     "output_type": "execute_result"
    }
   ],
   "source": [
    "X_train"
   ]
  },
  {
   "cell_type": "code",
   "execution_count": 208,
   "id": "92b74aaf",
   "metadata": {},
   "outputs": [
    {
     "data": {
      "text/plain": [
       "array([[ 0.31026316, -0.12818214],\n",
       "       [-0.17834024,  0.04913033],\n",
       "       [ 0.31026316,  0.61061984],\n",
       "       [ 0.79886656, -0.66011957],\n",
       "       [-1.54642976, -0.63056749],\n",
       "       [ 1.87379403, -1.36936947],\n",
       "       [ 0.01710112, -0.80787996],\n",
       "       [ 0.79886656, -0.77832788],\n",
       "       [-0.3737816 , -0.30549462],\n",
       "       [ 0.01710112,  0.04913033],\n",
       "       [ 0.21254248, -0.30549462],\n",
       "       [-1.25326772,  1.43807805],\n",
       "       [ 1.97151471,  1.792703  ],\n",
       "       [ 1.77607335, -1.28071323],\n",
       "       [ 0.70114588, -1.36936947],\n",
       "       [-0.08061956,  0.04913033],\n",
       "       [-1.05782636,  0.5219636 ],\n",
       "       [-1.44870908, -0.3350467 ],\n",
       "       [-0.862385  , -1.6057861 ],\n",
       "       [ 0.01710112,  1.55628637],\n",
       "       [-1.15554704, -0.45325501],\n",
       "       [-1.74187112,  0.07868241],\n",
       "       [-0.17834024,  0.16733865],\n",
       "       [ 1.97151471,  0.55151568],\n",
       "       [ 1.87379403, -0.66011957],\n",
       "       [-0.17834024, -0.42370293],\n",
       "       [-0.08061956, -0.30549462],\n",
       "       [-0.17834024,  2.26553627],\n",
       "       [ 0.89658724, -1.07384868],\n",
       "       [-0.27606092, -1.07384868],\n",
       "       [-0.3737816 , -1.4580257 ],\n",
       "       [-1.15554704,  0.43330736],\n",
       "       [-0.56922296, -0.77832788],\n",
       "       [ 0.99430792, -1.22160907],\n",
       "       [ 0.89658724,  1.46763013],\n",
       "       [-0.47150228, -0.77832788],\n",
       "       [ 0.70114588,  0.55151568],\n",
       "       [ 0.1148218 ,  2.14732795],\n",
       "       [ 0.1148218 , -0.66011957],\n",
       "       [-1.05782636, -0.30549462],\n",
       "       [ 0.21254248, -0.71922373],\n",
       "       [ 0.6034252 , -0.71922373],\n",
       "       [-1.44870908, -1.48757778],\n",
       "       [-0.862385  , -0.60101541],\n",
       "       [-0.27606092, -0.1872863 ],\n",
       "       [-0.56922296, -1.13295283],\n",
       "       [ 0.89658724,  1.91091132],\n",
       "       [ 0.01710112, -0.80787996],\n",
       "       [-0.17834024,  0.31509904],\n",
       "       [-1.8395918 ,  0.49241152],\n",
       "       [-1.05782636,  1.58583845],\n",
       "       [-0.27606092,  1.67449468],\n",
       "       [ 0.79886656, -0.57146333],\n",
       "       [-0.3737816 ,  0.10823449],\n",
       "       [ 0.31026316, -0.48280709],\n",
       "       [-0.17834024,  0.22644281],\n",
       "       [ 0.89658724,  0.61061984],\n",
       "       [-1.25326772,  0.34465112],\n",
       "       [ 1.28746996, -0.92608828],\n",
       "       [ 1.97151471,  2.17688003],\n",
       "       [-1.3509884 ,  0.5219636 ],\n",
       "       [ 0.89658724,  0.78793231],\n",
       "       [-0.08061956, -0.54191125],\n",
       "       [-0.17834024,  2.20643211],\n",
       "       [ 1.77607335,  1.55628637],\n",
       "       [ 0.6034252 ,  0.28554696],\n",
       "       [ 0.31026316, -0.12818214],\n",
       "       [ 1.67835267,  1.88135924],\n",
       "       [-1.8395918 , -1.36936947],\n",
       "       [-0.08061956,  0.31509904],\n",
       "       [-0.17834024,  0.07868241],\n",
       "       [ 0.01710112,  0.78793231],\n",
       "       [-1.05782636, -0.95564036],\n",
       "       [-1.05782636, -0.30549462],\n",
       "       [-0.96010568,  0.40375528],\n",
       "       [ 0.1148218 , -0.27594254],\n",
       "       [-0.56922296, -0.83743204],\n",
       "       [-1.64415044, -0.42370293],\n",
       "       [ 1.97151471,  0.40375528],\n",
       "       [ 0.79886656, -1.16250491]])"
      ]
     },
     "execution_count": 208,
     "metadata": {},
     "output_type": "execute_result"
    }
   ],
   "source": [
    "X_test"
   ]
  },
  {
   "cell_type": "code",
   "execution_count": 209,
   "id": "ebd28016",
   "metadata": {},
   "outputs": [
    {
     "data": {
      "text/plain": [
       "LogisticRegression()"
      ]
     },
     "execution_count": 209,
     "metadata": {},
     "output_type": "execute_result"
    }
   ],
   "source": [
    "logClassifier=LogisticRegression()\n",
    "logClassifier.fit(X_train,Y_train)"
   ]
  },
  {
   "cell_type": "code",
   "execution_count": 210,
   "id": "cecad718",
   "metadata": {},
   "outputs": [
    {
     "data": {
      "text/plain": [
       "array([0, 0, 1, 0, 0, 1, 0, 0, 0, 0, 0, 0, 1, 1, 0, 0, 0, 0, 0, 1, 0, 0,\n",
       "       0, 1, 1, 0, 0, 1, 0, 0, 0, 0, 0, 0, 1, 0, 1, 1, 0, 0, 0, 0, 0, 0,\n",
       "       0, 0, 1, 0, 0, 0, 0, 1, 1, 0, 0, 0, 1, 0, 1, 1, 0, 1, 0, 1, 1, 1,\n",
       "       0, 1, 0, 0, 0, 0, 0, 0, 0, 0, 0, 0, 1, 0], dtype=int64)"
      ]
     },
     "execution_count": 210,
     "metadata": {},
     "output_type": "execute_result"
    }
   ],
   "source": [
    "Y_test_pred=logClassifier.predict(X_test)\n",
    "Y_test_pred"
   ]
  },
  {
   "cell_type": "code",
   "execution_count": 211,
   "id": "94c7fcea",
   "metadata": {},
   "outputs": [
    {
     "data": {
      "text/plain": [
       "array([[50,  2],\n",
       "       [ 7, 21]], dtype=int64)"
      ]
     },
     "execution_count": 211,
     "metadata": {},
     "output_type": "execute_result"
    }
   ],
   "source": [
    "confusion_matrix(Y_test,Y_test_pred)"
   ]
  },
  {
   "cell_type": "code",
   "execution_count": 212,
   "id": "b2d3dd89",
   "metadata": {},
   "outputs": [
    {
     "name": "stdout",
     "output_type": "stream",
     "text": [
      "              precision    recall  f1-score   support\n",
      "\n",
      "           0       0.88      0.96      0.92        52\n",
      "           1       0.91      0.75      0.82        28\n",
      "\n",
      "    accuracy                           0.89        80\n",
      "   macro avg       0.90      0.86      0.87        80\n",
      "weighted avg       0.89      0.89      0.88        80\n",
      "\n"
     ]
    }
   ],
   "source": [
    "print(classification_report(Y_test,Y_test_pred))"
   ]
  },
  {
   "cell_type": "code",
   "execution_count": 213,
   "id": "bf2d5b58",
   "metadata": {},
   "outputs": [
    {
     "name": "stdout",
     "output_type": "stream",
     "text": [
      "accuarcy: 0.8875\n"
     ]
    }
   ],
   "source": [
    "print(\"accuarcy:\",accuracy_score(Y_test,Y_test_pred))"
   ]
  },
  {
   "cell_type": "code",
   "execution_count": null,
   "id": "3588166e",
   "metadata": {},
   "outputs": [],
   "source": []
  },
  {
   "cell_type": "code",
   "execution_count": null,
   "id": "e3d9364b",
   "metadata": {},
   "outputs": [],
   "source": []
  },
  {
   "cell_type": "code",
   "execution_count": null,
   "id": "ad7be1f4",
   "metadata": {},
   "outputs": [],
   "source": []
  }
 ],
 "metadata": {
  "kernelspec": {
   "display_name": "Python 3 (ipykernel)",
   "language": "python",
   "name": "python3"
  },
  "language_info": {
   "codemirror_mode": {
    "name": "ipython",
    "version": 3
   },
   "file_extension": ".py",
   "mimetype": "text/x-python",
   "name": "python",
   "nbconvert_exporter": "python",
   "pygments_lexer": "ipython3",
   "version": "3.9.12"
  }
 },
 "nbformat": 4,
 "nbformat_minor": 5
}
